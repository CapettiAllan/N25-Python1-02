{
 "cells": [
  {
   "cell_type": "markdown",
   "metadata": {},
   "source": [
    "# 3.6.1 Operações com lista\n",
    "### Fatiamento"
   ]
  },
  {
   "cell_type": "code",
   "execution_count": 13,
   "metadata": {},
   "outputs": [
    {
     "name": "stdout",
     "output_type": "stream",
     "text": [
      "20 15\n",
      "140718035437064 140718035436904\n"
     ]
    }
   ],
   "source": [
    "# Operações com valores\n",
    "item1 = 10\n",
    "item2 = 20\n",
    "item1 = item2\n",
    "item2 = 15\n",
    "print(item1, item2)\n",
    "print(id(item1), id(item2)) # endereço de memoria"
   ]
  },
  {
   "cell_type": "code",
   "execution_count": 14,
   "metadata": {},
   "outputs": [
    {
     "name": "stdout",
     "output_type": "stream",
     "text": [
      "[1, 2, 3, 4]\n",
      "2253253375808 2253253375808\n"
     ]
    }
   ],
   "source": [
    "# Operação com lista\n",
    "lista1 = [1,2,3]\n",
    "lista2 = lista1\n",
    "lista2.append(4)\n",
    "print(lista1)\n",
    "print(id(lista1), id(lista2)) # endereço de memoria"
   ]
  },
  {
   "cell_type": "code",
   "execution_count": 15,
   "metadata": {},
   "outputs": [
    {
     "name": "stdout",
     "output_type": "stream",
     "text": [
      "[2, 3]\n",
      "[1, 2, 3]\n",
      "[2, 3, 4, 5]\n",
      "[1, 2, 3, 4, 5]\n",
      "[2, 3]\n"
     ]
    }
   ],
   "source": [
    "# fatiamento\n",
    "lista = [1,2,3,4,5]\n",
    "print(lista[1:3])\n",
    "print(lista[:3]) # é igual o range, sempre o (fim -1)\n",
    "print(lista[1:])\n",
    "print(lista[:])\n",
    "print(lista[1:-2])"
   ]
  },
  {
   "cell_type": "code",
   "execution_count": 16,
   "metadata": {},
   "outputs": [
    {
     "name": "stdout",
     "output_type": "stream",
     "text": [
      "[1, 2, 3, 4] 2253253139264\n",
      "[1, 2, 3, 4, 5] 2253253377984\n",
      "[1, 4]\n",
      "[1, 2, 3, 4, 5]\n"
     ]
    }
   ],
   "source": [
    "lista1 = [1,2,3,4]\n",
    "lista2 = lista1[:] # se usar o fatiamento junto a atribuição, é criada uma cópia da lista e os endereços de mmemória são diferentes (shadowlist)\n",
    "lista2.append(5)\n",
    "print(lista1,id(lista1))\n",
    "print(lista2,id(lista2))\n",
    "del lista1[1:3] # exclusão com fatiamento (seleciona um range de deleção)\n",
    "print(lista1)\n",
    "print(lista2)"
   ]
  },
  {
   "cell_type": "code",
   "execution_count": 18,
   "metadata": {},
   "outputs": [
    {
     "name": "stdout",
     "output_type": "stream",
     "text": [
      "cdefghijklmnopqrstuvwx\n"
     ]
    }
   ],
   "source": [
    "# Fatiamento em string\n",
    "texto = \"abcdefghijklmnopqrstuvwxyz\"\n",
    "print(texto[2:-2])"
   ]
  },
  {
   "cell_type": "markdown",
   "metadata": {},
   "source": [
    "### Operadores in e not in"
   ]
  },
  {
   "cell_type": "code",
   "execution_count": 17,
   "metadata": {},
   "outputs": [
    {
     "name": "stdout",
     "output_type": "stream",
     "text": [
      "True\n",
      "False\n",
      "False\n"
     ]
    }
   ],
   "source": [
    "lista = [7,8,3,2,5]\n",
    "print(5 in lista)\n",
    "print(5 not in lista)\n",
    "print(9 in lista)\n"
   ]
  },
  {
   "cell_type": "markdown",
   "metadata": {},
   "source": [
    "## 3.6.6   LAB   Operações com listas ‒ básico\n",
    "### Cenário\n",
    "\n",
    "Imagine uma lista - não muito longa, não muito complicada, apenas uma lista simples que contém alguns números inteiros. Alguns desses números podem ser repetidos, e essa é a pista. Não queremos repetições. Queremos que eles sejam removidos.\n",
    "\n",
    "Sua tarefa é escrever um programa que remova todas as repetições de números da lista. O objetivo é ter uma lista na qual todos os números não aparecem mais de uma vez.\n",
    "\n",
    "Nota: suponha que a lista de origem seja codificada dentro do código - você não precisa inseri-la no teclado. Claro, você pode melhorar o código e adicionar uma parte que possa conversar com o usuário e obter todos os dados dele.\n",
    "\n",
    "Dica: recomendamos que você crie uma nova lista como uma área de trabalho temporária. Você não precisa atualizar a lista in situ.\n",
    "\n",
    "Não fornecemos dados de teste, pois isso seria muito fácil. Você pode usar o nosso esqueleto."
   ]
  },
  {
   "cell_type": "code",
   "execution_count": 25,
   "metadata": {},
   "outputs": [
    {
     "name": "stdout",
     "output_type": "stream",
     "text": [
      "A lista com os elementos exclusivos aqui\n",
      "[1, 2, 4, 6, 9, 10, 15, 94, 82, 66, 55]\n"
     ]
    }
   ],
   "source": [
    "lista1 = [1, 2, 4, 4, 1, 4, 2, 6, 2, 9, 10, 15, 15, 94, 82, 66, 82, 55, 55, 94]\n",
    "lista2=[]\n",
    "for elemento in lista1:\n",
    "    if elemento not in lista2:\n",
    "        lista2.append(elemento)\n",
    "    lista1 = lista2\n",
    "print(\"A lista com os elementos exclusivos aqui\")\n",
    "print(lista1)"
   ]
  }
 ],
 "metadata": {
  "kernelspec": {
   "display_name": ".venv",
   "language": "python",
   "name": "python3"
  },
  "language_info": {
   "codemirror_mode": {
    "name": "ipython",
    "version": 3
   },
   "file_extension": ".py",
   "mimetype": "text/x-python",
   "name": "python",
   "nbconvert_exporter": "python",
   "pygments_lexer": "ipython3",
   "version": "3.13.2"
  }
 },
 "nbformat": 4,
 "nbformat_minor": 2
}
