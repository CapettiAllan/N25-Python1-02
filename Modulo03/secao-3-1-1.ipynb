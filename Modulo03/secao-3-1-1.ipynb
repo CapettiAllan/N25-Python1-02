{
 "cells": [
  {
   "cell_type": "markdown",
   "metadata": {},
   "source": [
    "# Tomada de decisão\n",
    "## Operações relacionais\n",
    "### Operador de igualdade ( == )"
   ]
  },
  {
   "cell_type": "code",
   "execution_count": 22,
   "metadata": {},
   "outputs": [
    {
     "name": "stdout",
     "output_type": "stream",
     "text": [
      "False\n",
      "True\n",
      "True\n",
      "True\n"
     ]
    }
   ],
   "source": [
    "print( 1 == 2 )\n",
    "print( 1 == 1 ) \n",
    "print( 1 == 1.0 )\n",
    "print( 2 == 0b10 )  # binário 2\n"
   ]
  },
  {
   "cell_type": "markdown",
   "metadata": {},
   "source": [
    "### Operador de desigualdade ( != )"
   ]
  },
  {
   "cell_type": "code",
   "execution_count": 23,
   "metadata": {},
   "outputs": [
    {
     "name": "stdout",
     "output_type": "stream",
     "text": [
      "True\n",
      "False\n",
      "False\n",
      "False\n"
     ]
    }
   ],
   "source": [
    "print( 1 != 2 )\n",
    "print( 1 != 1 ) \n",
    "print( 1 != 1.0 )\n",
    "print( 2 != 0b10 ) # binário 2"
   ]
  },
  {
   "cell_type": "markdown",
   "metadata": {},
   "source": [
    "### Operador maior que ( > ) e maior igual a ( >= )"
   ]
  },
  {
   "cell_type": "code",
   "execution_count": 24,
   "metadata": {},
   "outputs": [
    {
     "name": "stdout",
     "output_type": "stream",
     "text": [
      "False\n",
      "True\n",
      "True\n",
      "True\n"
     ]
    }
   ],
   "source": [
    "print( 1 > 2 )\n",
    "print( 2 > 1 ) \n",
    "print( 2 >= 1.0 )\n",
    "print( 2 >= 0b10 ) # binário 2"
   ]
  },
  {
   "cell_type": "markdown",
   "metadata": {},
   "source": [
    "### Operador menor que ( < ) e menor igual a ( <= )"
   ]
  },
  {
   "cell_type": "code",
   "execution_count": 25,
   "metadata": {},
   "outputs": [
    {
     "name": "stdout",
     "output_type": "stream",
     "text": [
      "True\n",
      "False\n",
      "False\n",
      "True\n"
     ]
    }
   ],
   "source": [
    "print( 1 < 2 )\n",
    "print( 2 < 1 ) \n",
    "print( 2 <= 1.0 )\n",
    "print( 2 <= 0b10 ) # binário 2"
   ]
  },
  {
   "cell_type": "markdown",
   "metadata": {},
   "source": [
    "#### Atualizando a lista de prioridades de operadores\n",
    " Seq | operador | Descrição |\n",
    "| :-: | :-: | - |\n",
    "| 1 | ** | Exponenciação |\n",
    "| 2 | +,- | Unários Sinal |\n",
    "| 3 | *,/,//,% | Multiplicação, Divisão e Resto |\n",
    "| 4 | +,- | Soma e Subtração |\n",
    "| 5 | >, >=, <, <= | Maior, Maior igual, Menor, Menor igual |\n",
    "| 6 | ==, != | Igualdade e Diferença  |\n",
    "\n",
    "\n",
    "\n"
   ]
  },
  {
   "cell_type": "markdown",
   "metadata": {},
   "source": [
    "### Operador if ( Se ) - condicional\n",
    "\n",
    "sintaxe:\n",
    "if condicao_verdade:\n",
    "    comando_a_ser_executado1()\n",
    "    comando_a_ser_executado2()"
   ]
  },
  {
   "cell_type": "code",
   "execution_count": 26,
   "metadata": {},
   "outputs": [
    {
     "name": "stdout",
     "output_type": "stream",
     "text": [
      "Você é maior de idade, então pode dirigir... SE HABILITADO!!\n",
      "fim do programa\n"
     ]
    }
   ],
   "source": [
    "idade = int(input(\"Digite sua idade\"))\n",
    "if idade >= 18:\n",
    "    print(\"Você é maior de idade, então pode dirigir... SE HABILITADO!!\")\n",
    "print(\"fim do programa\")"
   ]
  },
  {
   "cell_type": "markdown",
   "metadata": {},
   "source": [
    "### Instrução else"
   ]
  },
  {
   "cell_type": "code",
   "execution_count": 27,
   "metadata": {},
   "outputs": [
    {
     "name": "stdout",
     "output_type": "stream",
     "text": [
      "Você é maior de idade, então pode dirigir... SE HABILITADO!!\n",
      "fim do programa\n"
     ]
    }
   ],
   "source": [
    "idade = int(input(\"Digite sua idade\"))\n",
    "if idade >= 18:\n",
    "    print(\"Você é maior de idade, então pode dirigir... SE HABILITADO!!\")\n",
    "else:\n",
    "    print(\"Você é menor de idade, não pode dirigir!\")\n",
    "print(\"fim do programa\")"
   ]
  },
  {
   "cell_type": "markdown",
   "metadata": {},
   "source": [
    "### if encadeado"
   ]
  },
  {
   "cell_type": "code",
   "execution_count": 28,
   "metadata": {},
   "outputs": [
    {
     "name": "stdout",
     "output_type": "stream",
     "text": [
      "Você é maior de idade, então pode dirigir... SE HABILITADO!!\n",
      "fim do programa\n"
     ]
    }
   ],
   "source": [
    "idade = int(input(\"Digite sua idade\"))\n",
    "if idade >= 18:\n",
    "    print(\"Você é maior de idade, então pode dirigir... SE HABILITADO!!\")\n",
    "    if idade >= 70:\n",
    "        print(\"Você precisa de exames anuais para poder dirigir... SE HABILITADO!!\")\n",
    "    else:\n",
    "        if idade >= 65:\n",
    "            print(\"Você precisa de exames a cada dois anos para poder dirigir... SE HABILITADO!!\")\n",
    "else:\n",
    "    print(\"Você é menor de idade, não pode dirigir!\")\n",
    "print(\"fim do programa\")"
   ]
  },
  {
   "cell_type": "markdown",
   "metadata": {},
   "source": [
    "### instrução elif"
   ]
  },
  {
   "cell_type": "code",
   "execution_count": 32,
   "metadata": {},
   "outputs": [
    {
     "name": "stdout",
     "output_type": "stream",
     "text": [
      "Você é maior de idade, então pode dirigir... SE HABILITADO!!\n",
      "fim do programa\n"
     ]
    }
   ],
   "source": [
    "idade = int(input(\"Digite sua idade\"))\n",
    "\n",
    "if idade >= 100:\n",
    "    print(\"Você é maior de idade, mas não pode dirigir... vai acabar matando alguém no trânsito\")\n",
    "    print(\"Você precisa de exames anuais para saber se não é uma múmia\")\n",
    "elif idade >= 70:\n",
    "    print(\"Você é maior de idade, então pode dirigir... SE HABILITADO!!\")\n",
    "    print(\"Você precisa de exames anuais para poder dirigir... SE HABILITADO!!\")\n",
    "elif idade >= 65:\n",
    "    print(\"Você é maior de idade, então pode dirigir... SE HABILITADO!!\")\n",
    "    print(\"Você precisa de exames a cada dois anos para poder dirigir... SE HABILITADO!!\")\n",
    "elif idade >= 18:\n",
    "    print(\"Você é maior de idade, então pode dirigir... SE HABILITADO!!\")\n",
    "else:\n",
    "    print(\"Você é menor de idade, não pode dirigir!\")\n",
    "print(\"fim do programa\")"
   ]
  },
  {
   "cell_type": "code",
   "execution_count": 33,
   "metadata": {},
   "outputs": [
    {
     "name": "stdout",
     "output_type": "stream",
     "text": [
      "O maior número é: 3\n"
     ]
    }
   ],
   "source": [
    "# Obtendo o maior número entre dois números\n",
    "num1 = int(input(\"Digite o primeiro número: \"))\n",
    "num2 = int(input(\"Digite o segundo número: \"))\n",
    "maior = num1\n",
    "if num2 > maior:\n",
    "    maior = num2\n",
    "print(\"O maior número é:\", maior)"
   ]
  },
  {
   "cell_type": "code",
   "execution_count": 1,
   "metadata": {},
   "outputs": [
    {
     "name": "stdout",
     "output_type": "stream",
     "text": [
      "O maior número é: 6\n"
     ]
    }
   ],
   "source": [
    "# Obtendo o maior número entre três números\n",
    "num1 = int(input(\"Digite o primeiro número: \"))\n",
    "num2 = int(input(\"Digite o segundo número: \"))\n",
    "num3 = int(input(\"Digite o terceiro número: \"))\n",
    "maior = num1\n",
    "if num2 > maior:\n",
    "    maior = num2\n",
    "if num3 > maior:\n",
    "    maior = num3\n",
    "print(\"O maior número é:\", maior)"
   ]
  },
  {
   "cell_type": "code",
   "execution_count": null,
   "metadata": {},
   "outputs": [],
   "source": [
    "# Uso do if com strings ---->>> CONSULTAR TABELA ASCII\n",
    "\n",
    "\n",
    "nome = input(\"Digite seu nome: \")\n",
    "nome2 = input(\"Digite seu nome: \")\n",
    "if nome > nome2:\n",
    "    print(nome, \"é maior que \", nome2)\n",
    "else:\n",
    "    print(nome2, \"é maior que ou igual a \", nome)\n"
   ]
  }
 ],
 "metadata": {
  "kernelspec": {
   "display_name": ".venv",
   "language": "python",
   "name": "python3"
  },
  "language_info": {
   "codemirror_mode": {
    "name": "ipython",
    "version": 3
   },
   "file_extension": ".py",
   "mimetype": "text/x-python",
   "name": "python",
   "nbconvert_exporter": "python",
   "pygments_lexer": "ipython3",
   "version": "3.13.2"
  }
 },
 "nbformat": 4,
 "nbformat_minor": 2
}
