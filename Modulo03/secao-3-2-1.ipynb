{
 "cells": [
  {
   "cell_type": "markdown",
   "metadata": {},
   "source": [
    "# Loops\n",
    "### Laço While"
   ]
  },
  {
   "cell_type": "code",
   "execution_count": null,
   "metadata": {},
   "outputs": [
    {
     "name": "stdout",
     "output_type": "stream",
     "text": [
      "Teste...\n"
     ]
    }
   ],
   "source": [
    "# Exemplo de laço infito....\n",
    "\n",
    "while True: # condição se verdade permanece no laço\n",
    "    print(\"Teste...\")\n",
    "    break"
   ]
  },
  {
   "cell_type": "code",
   "execution_count": null,
   "metadata": {},
   "outputs": [],
   "source": [
    "# Exemplo para textar maior valor\n",
    "# Usuário vai digitar os valores até o valor ser -1\n",
    "\n",
    "maior = -999_999_999_999\n",
    "valor = int(input(\"Digite um valor (-1 = fim): \"))\n",
    "while valor != -1:\n",
    "    if valor > maior:\n",
    "        maior = valor\n",
    "    valor = int(input(\"Digite um valor (-1 = fim): \"))\n",
    "if maior > -999_999_999_999:\n",
    "    print(\"O maior valor digitado foi\", maior)\n",
    "else:\n",
    "    print(\"não houve digitação de valores!\")"
   ]
  },
  {
   "cell_type": "code",
   "execution_count": null,
   "metadata": {},
   "outputs": [],
   "source": [
    "# Solicitar ao usuário a digitação de valor, se -1 encerrar\n",
    "# Contar quantos pares e quantos impares foram digitados\n",
    "\n",
    "par, impar = 0, 0\n",
    "num = int(input(\"Digite um número! (-1 = fim): \"))\n",
    "while num != -1:\n",
    "    if num % 2 == 0: # par\n",
    "        par += 1 # par = par + 1\n",
    "    else:\n",
    "        impar += 1 # impar = impar + 1\n",
    "    num = int(input(\"Digite um número (-1 = fim): \"))\n",
    "print(\"Pares:\", par, \"impares:\", impar)"
   ]
  },
  {
   "cell_type": "code",
   "execution_count": 1,
   "metadata": {},
   "outputs": [
    {
     "name": "stdout",
     "output_type": "stream",
     "text": [
      "0\n",
      "1\n",
      "2\n",
      "3\n",
      "4\n",
      "5\n",
      "6\n",
      "7\n",
      "8\n",
      "9\n",
      "Fim do programa\n"
     ]
    }
   ],
   "source": [
    "contador = 0\n",
    "while contador < 10:\n",
    "    print(contador)\n",
    "    contador +=1\n",
    "print(\"Fim do programa\")"
   ]
  },
  {
   "cell_type": "markdown",
   "metadata": {},
   "source": [
    "### Laço for"
   ]
  },
  {
   "cell_type": "code",
   "execution_count": 3,
   "metadata": {},
   "outputs": [
    {
     "name": "stdout",
     "output_type": "stream",
     "text": [
      "0\n",
      "1\n",
      "2\n",
      "3\n",
      "4\n",
      "5\n",
      "6\n",
      "7\n",
      "8\n",
      "9\n",
      "Fim do programa\n"
     ]
    }
   ],
   "source": [
    "for contador in range(10):\n",
    "    print(contador)\n",
    "print(\"Fim do programa\")"
   ]
  },
  {
   "cell_type": "markdown",
   "metadata": {},
   "source": [
    "### range com 2 parâmetros (inicio, fim)"
   ]
  },
  {
   "cell_type": "code",
   "execution_count": 2,
   "metadata": {},
   "outputs": [
    {
     "name": "stdout",
     "output_type": "stream",
     "text": [
      "1\n",
      "2\n",
      "3\n",
      "4\n",
      "Fim do programa\n"
     ]
    }
   ],
   "source": [
    "for contador in range (1,5):\n",
    "    print(contador)\n",
    "print(\"Fim do programa\")"
   ]
  },
  {
   "cell_type": "markdown",
   "metadata": {},
   "source": [
    "### range com 3 parâmetros (inicio, fim, passo)"
   ]
  },
  {
   "cell_type": "code",
   "execution_count": null,
   "metadata": {},
   "outputs": [
    {
     "name": "stdout",
     "output_type": "stream",
     "text": [
      "1\n",
      "4\n",
      "7\n",
      "Fim do programa\n"
     ]
    }
   ],
   "source": [
    "for contador in range (1, 10, 3):\n",
    "    print(contador)\n",
    "print(\"Fim do programa\")"
   ]
  },
  {
   "cell_type": "code",
   "execution_count": 6,
   "metadata": {},
   "outputs": [
    {
     "name": "stdout",
     "output_type": "stream",
     "text": [
      "Fim do programa 9\n"
     ]
    }
   ],
   "source": [
    "# for interessante\n",
    "contador = 9\n",
    "for contador in range(1, 1):\n",
    "    print(contador)\n",
    "print(\"Fim do programa\", contador)"
   ]
  },
  {
   "cell_type": "code",
   "execution_count": 8,
   "metadata": {},
   "outputs": [
    {
     "name": "stdout",
     "output_type": "stream",
     "text": [
      "10\n",
      "9\n",
      "8\n",
      "7\n",
      "6\n",
      "5\n",
      "4\n",
      "3\n",
      "2\n",
      "1\n",
      "Fim do programa\n"
     ]
    }
   ],
   "source": [
    "# Desafio\n",
    "for contador in range(10, 0, -1): # Imprimir do 10 ao 1\n",
    "    print(contador)\n",
    "print(\"Fim do programa\")"
   ]
  },
  {
   "cell_type": "markdown",
   "metadata": {},
   "source": [
    "# 3.2.7   LAB   Essenciais do loop for – contando mississippy\n",
    "\n",
    "### Cenário\n",
    "\n",
    "Você sabe o que é o Mississipi? Bem, é o nome de um dos estados e riachos dos Estados Unidos. O Rio Mississipi tem cerca de 2.340 milhas de comprimento, o que o torna o segundo maior rio dos Estados Unidos (o mais longo é o Rio Missouri). É tão longo que uma única gota de água precisa de 90 dias para percorrer todo o seu comprimento!\n",
    "\n",
    "A palavra Mississipi também é usada para uma finalidade ligeiramente diferente: contar com erros de sorte.\n",
    "\n",
    "Se você não está familiarizado com a frase, estamos aqui para explicar o que ela significa: ela é usada para contar segundos.\n",
    "\n",
    "A ideia por trás disso é que adicionar a palavra Mississipi a um número ao contar segundos em voz alta faz com que soem mais perto do relógio e, portanto, \"um Mississipi, dois Mississipi, três Mississipi\" levará aproximadamente três segundos reais! É frequentemente usado por crianças que brincam de esconde-esconde para garantir que o candidato faça uma contagem honesta.\n",
    "\n",
    "Sua tarefa é muito simples aqui: escreva um programa que use um loop for para \"contar de forma incorreta\" para cinco. Depois de contar até cinco, o programa deve imprimir na tela a mensagem final \"Pronto ou não, aqui vou eu!\"\n",
    "\n",
    "- Use o esqueleto que fornecemos no editor.\n",
    "\n",
    "INFORMAÇÕES EXTRA\n",
    "Observe que o código no editor contém dois elementos que podem não estar totalmente claros para você no momento: a declaração import time e o método sleep(). Vamos falar sobre eles em breve.\n",
    "\n",
    "Por enquanto, gostaríamos que você soubesse que importamos o módulo time e usamos o método sleep() para suspender a execução de cada função subsequente print() dentro do loop for por um segundo, para que a mensagem enviada para o console se assemelhe a uma contagem real. Não se preocupe, em breve você saberá mais sobre módulos e métodos."
   ]
  },
  {
   "cell_type": "code",
   "execution_count": 10,
   "metadata": {},
   "outputs": [
    {
     "name": "stdout",
     "output_type": "stream",
     "text": [
      "1 mississippi\n",
      "2 mississippi\n",
      "3 mississippi\n",
      "4 mississippi\n",
      "5 mississippi\n",
      "pronto ou não, aqui vou eu!!\n"
     ]
    }
   ],
   "source": [
    "# Importando biblioteca:\n",
    "import time\n",
    "# Escreva um loop for que conte até cinco\n",
    "   # Corpo do loop - exiba o número de iteração do loop e a palavra \"Mississippi\".\n",
    "   # Corpo do loop - use: time.sleep(1)\n",
    "\n",
    "# Escreva uma função print com a mensagem final.\n",
    "for i in range(1, 6):\n",
    "    print(i, \"mississippi\")\n",
    "    time.sleep(1)\n",
    "print(\"pronto ou não, aqui vou eu!!\")"
   ]
  },
  {
   "cell_type": "markdown",
   "metadata": {},
   "source": [
    "### Instrução break e continue"
   ]
  },
  {
   "cell_type": "code",
   "execution_count": 13,
   "metadata": {},
   "outputs": [
    {
     "name": "stdout",
     "output_type": "stream",
     "text": [
      "0\n",
      "1\n",
      "2\n",
      "Fim de programa\n"
     ]
    }
   ],
   "source": [
    "contador = 0\n",
    "while contador < 10:\n",
    "    print(contador)\n",
    "    contador +=1\n",
    "    if contador == 3:\n",
    "        break\n",
    "print(\"Fim de programa\")"
   ]
  },
  {
   "cell_type": "code",
   "execution_count": 16,
   "metadata": {},
   "outputs": [
    {
     "name": "stdout",
     "output_type": "stream",
     "text": [
      "1\n",
      "2\n",
      "4\n",
      "5\n",
      "6\n",
      "7\n",
      "8\n",
      "9\n",
      "10\n",
      "Fim de programa\n"
     ]
    }
   ],
   "source": [
    "contador = 0\n",
    "while contador < 10:\n",
    "    contador += 1\n",
    "    if contador == 3:\n",
    "        continue\n",
    "    print(contador)\n",
    "print(\"Fim de programa\")"
   ]
  },
  {
   "cell_type": "markdown",
   "metadata": {},
   "source": [
    "#### Exemplo interessante do for"
   ]
  },
  {
   "cell_type": "code",
   "execution_count": 20,
   "metadata": {},
   "outputs": [
    {
     "name": "stdout",
     "output_type": "stream",
     "text": [
      "o-t-o-r-r-i-n-o-l-a-r-i-n-g-o-l-o-g-i-s-t-a-\n",
      "Fim do programa\n",
      "atsigologniralonirroto\n"
     ]
    }
   ],
   "source": [
    "palavra = \"otorrinolaringologista\"\n",
    "for letra in palavra:\n",
    "    print(letra, end=\"-\")\n",
    "print(\"\\nFim do programa\")\n",
    "\n",
    "# Invertendo a palavra\n",
    "\n",
    "pal_inv = \"\"\n",
    "for letra in palavra:\n",
    "    pal_inv = letra + pal_inv\n",
    "print(pal_inv)"
   ]
  },
  {
   "cell_type": "markdown",
   "metadata": {},
   "source": [
    "### 3.2.12 O loop while e o ramo else"
   ]
  },
  {
   "cell_type": "code",
   "execution_count": 1,
   "metadata": {},
   "outputs": [
    {
     "name": "stdout",
     "output_type": "stream",
     "text": [
      "1\n",
      "2\n",
      "3\n",
      "4\n",
      "else: 5\n"
     ]
    }
   ],
   "source": [
    "i = 1\n",
    "while i < 5:\n",
    "    print(i)\n",
    "    i += 1\n",
    "else:\n",
    "    print(\"else:\", i)"
   ]
  },
  {
   "cell_type": "markdown",
   "metadata": {},
   "source": [
    "### 3.2.13 O loop for e o ramo else"
   ]
  },
  {
   "cell_type": "code",
   "execution_count": 8,
   "metadata": {},
   "outputs": [
    {
     "name": "stdout",
     "output_type": "stream",
     "text": [
      "1\n",
      "2\n"
     ]
    }
   ],
   "source": [
    "for i in range(1, 5):\n",
    "    if i == 3: break # pode ser uma linha desde ue uma instrução no if\n",
    "    print(i)\n",
    "else:\n",
    "    print(\"else:\", i) # Só ñ passa se ocorrer break no laço"
   ]
  },
  {
   "cell_type": "markdown",
   "metadata": {},
   "source": [
    "# 3.2.14   LAB   Essenciais do loop while\n",
    "### Cenário\n",
    "\n",
    "Ouça esta história: um garoto e seu pai, um programador de computador, estão jogando com blocos de madeira. Eles estão construindo uma pirâmide.\n",
    "\n",
    "A pirâmide deles é um pouco esquisita, pois na verdade é uma parede em forma de pirâmide - é plana. A pirâmide é empilhada de acordo com um princípio simples: cada camada inferior contém um bloco a mais do que a camada acima.\n",
    "\n",
    "\n",
    "A figura ilustra a regra usada pelos construtores:"
   ]
  },
  {
   "cell_type": "code",
   "execution_count": null,
   "metadata": {},
   "outputs": [
    {
     "name": "stdout",
     "output_type": "stream",
     "text": [
      "A altura da pirâmide: 3\n"
     ]
    }
   ],
   "source": [
    "blocos = int(input(\"Insira o número de blocos:\"))  \n",
    " # Escreva seu código aqui.\n",
    "altura = 0\n",
    "total_blocos = 0\n",
    "while total_blocos + altura + 1 <= blocos:\n",
    "    altura += 1\n",
    "    total_blocos += altura\n",
    "#\n",
    "print(\"A altura da pirâmide:\", altura)"
   ]
  },
  {
   "cell_type": "markdown",
   "metadata": {},
   "source": [
    "### DESAFIO\n",
    "#### Fazer um rpograma que solicite um número e retorne a raiz aprox. do número informado.\n",
    " - Você deve usar o laço for, if e break"
   ]
  },
  {
   "cell_type": "code",
   "execution_count": 19,
   "metadata": {},
   "outputs": [
    {
     "name": "stdout",
     "output_type": "stream",
     "text": [
      "A raiz aproximada é:  2\n"
     ]
    },
    {
     "data": {
      "text/plain": [
       "'\\n# Jeito fácil:\\nimport math\\nround(math.sqrt())\\n'"
      ]
     },
     "execution_count": 19,
     "metadata": {},
     "output_type": "execute_result"
    }
   ],
   "source": [
    "\n",
    "num= int(input(\"Digite o valor: \"))\n",
    "raiz = 0\n",
    "for i in range(num):\n",
    "    #código aqui\n",
    "    raiz = i\n",
    "    if (raiz + 1) * (raiz + 1) > num:\n",
    "        break;\n",
    "print(\"A raiz aproximada é: \", raiz)\n",
    "\n",
    "'''\n",
    "# Jeito fácil:\n",
    "import math\n",
    "round(math.sqrt())\n",
    "'''"
   ]
  },
  {
   "cell_type": "code",
   "execution_count": null,
   "metadata": {},
   "outputs": [
    {
     "name": "stdout",
     "output_type": "stream",
     "text": [
      "CPF válido! 45272064860 45272064860\n"
     ]
    }
   ],
   "source": [
    "# Teste CPF\n",
    "\n",
    "cpf = input(\"Digite o cpf (somente número, 11 digitos): \")\n",
    "cpf_sem_dg = \"\"\n",
    "soma = 0\n",
    "for i in range(9):\n",
    "    soma += int(cpf[i]) * (10 - i)\n",
    "    cpf_sem_dg += cpf[i]\n",
    "\n",
    "# Calculo 1º digito\n",
    "dg1 = soma * 10 % 11\n",
    "if dg1 > 9: dg1 = 0\n",
    "soma = 0\n",
    "for i in range(10):\n",
    "    soma += int(cpf[i]) * (11 - i)\n",
    "\n",
    "# Calculo 2º digito\n",
    "dg2 = soma * 10 % 11\n",
    "if dg2 > 9: dg2 = 0\n",
    "\n",
    "# Montando cpf calculado\n",
    "cpf_sem_dg += str(dg1) + str(dg2)\n",
    "if cpf != cpf_sem_dg:\n",
    "    print(\"CPF inválido!\", cpf, cpf_sem_dg)\n",
    "else:\n",
    "    print(\"CPF válido!\", cpf, cpf_sem_dg)"
   ]
  }
 ],
 "metadata": {
  "kernelspec": {
   "display_name": ".venv",
   "language": "python",
   "name": "python3"
  },
  "language_info": {
   "codemirror_mode": {
    "name": "ipython",
    "version": 3
   },
   "file_extension": ".py",
   "mimetype": "text/x-python",
   "name": "python",
   "nbconvert_exporter": "python",
   "pygments_lexer": "ipython3",
   "version": "3.13.2"
  }
 },
 "nbformat": 4,
 "nbformat_minor": 2
}
