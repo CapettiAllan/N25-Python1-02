{
 "cells": [
  {
   "cell_type": "markdown",
   "metadata": {},
   "source": [
    "# 3.5.1 Ordenando lista"
   ]
  },
  {
   "cell_type": "code",
   "execution_count": null,
   "metadata": {},
   "outputs": [
    {
     "name": "stdout",
     "output_type": "stream",
     "text": [
      "[8, 10, 6, 2, 4]\n",
      "Trocas: 3\n",
      "Trocas: 3\n",
      "Trocas: 2\n",
      "Trocas: 0\n",
      "[2, 4, 6, 8, 10]\n"
     ]
    }
   ],
   "source": [
    "# Ordenação bubblesort - ineficiente com grandes quantidades de dados\n",
    "lista = [8,10,6,2,4] # lista desordenada\n",
    "print(lista) # imprime a lista desordenada\n",
    "troca = True\n",
    "while troca:\n",
    "    qtde = 0\n",
    "    troca = False\n",
    "    for i in range(len(lista)-1): # o \"-1\" despreza o último elemento\n",
    "        if lista[i]>lista[i+1]: # Se quiser ordenar do menor pro maior é só inverter o sinal de \">\" para \"<\"\n",
    "            lista[i],lista[i+1] = lista[i+1],lista[i]\n",
    "            troca = True\n",
    "            qtde += 1\n",
    "    print(\"Trocas:\",qtde)\n",
    "print(lista) # imprime a lista ordenada\n"
   ]
  },
  {
   "cell_type": "code",
   "execution_count": null,
   "metadata": {},
   "outputs": [
    {
     "name": "stdout",
     "output_type": "stream",
     "text": [
      "[2, 4, 6, 8, 10]\n",
      "[10, 8, 6, 4, 2]\n"
     ]
    }
   ],
   "source": [
    "# Método \".sort\" - utiliza o algoritmo Quicksort, bem mais eficiente do que o bubblesort que é sequencial, o quicksort ramifica o conjunto para ordenar\n",
    "\n",
    "lista = [8,10,6,2,4]\n",
    "lista.sort()\n",
    "print(lista)\n",
    "lista.reverse()\n",
    "print(lista)"
   ]
  }
 ],
 "metadata": {
  "kernelspec": {
   "display_name": ".venv",
   "language": "python",
   "name": "python3"
  },
  "language_info": {
   "codemirror_mode": {
    "name": "ipython",
    "version": 3
   },
   "file_extension": ".py",
   "mimetype": "text/x-python",
   "name": "python",
   "nbconvert_exporter": "python",
   "pygments_lexer": "ipython3",
   "version": "3.13.2"
  }
 },
 "nbformat": 4,
 "nbformat_minor": 2
}
