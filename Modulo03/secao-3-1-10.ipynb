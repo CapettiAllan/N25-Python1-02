{
 "cells": [
  {
   "cell_type": "markdown",
   "metadata": {},
   "source": [
    "# 3.1.10   LABORATÓRIO:   Operadores de comparação e execução condicional\n",
    "### Imagine que seu programa de computador adora essas fábricas. Sempre que recebe uma entrada na forma da palavra \"Spathiphyllum\", involuntariamente grita para o console a seguinte string: \"Spathiphyllum é a melhor fábrica de todos os tempos!\"\n",
    "\n",
    "##### Escreva um programa que utilize o conceito de execução condicional, use uma string como entrada e:\n",
    "\n",
    "- imprime a frase \"Sim - Spathiphyllum é a melhor fábrica de todos os tempos!\" para a tela se a sequência inserida for \"Spathiphyllum\" (maiúscula)\n",
    "- imprime \"Não, eu quero um grande Spathiphyllum!\" se a sequência inserida for \"spathiphyllum\" (letra minúscula)\n",
    "- imprime \"Spathiphyllum! Not[input]!\", Caso contrário. Nota: [input] é a string usada como entrada."
   ]
  },
  {
   "cell_type": "code",
   "execution_count": 6,
   "metadata": {},
   "outputs": [
    {
     "name": "stdout",
     "output_type": "stream",
     "text": [
      "Spathiphyllum!, Not uh!\n"
     ]
    }
   ],
   "source": [
    "plant = input(\"Escreva o nome da planta \")\n",
    "if plant == \"Spathiphyllum\":\n",
    "    print(\"Sim - Spathiphyllum é a melhor fábrica de todos os tempos!\")\n",
    "elif plant == \"spathiphyllum\":\n",
    "    print(\"Não, eu quero um grande Spathiphyllum!\")\n",
    "else:\n",
    "    print(\"Spathiphyllum!, Not \" + plant + \"!\")\n"
   ]
  },
  {
   "cell_type": "markdown",
   "metadata": {},
   "source": [
    "# 3.1.11   LAB   Essenciais da declaração if-else\n",
    "\n",
    "### Era uma vez uma terra - uma terra de leite e mel, habitada por pessoas felizes e prósperas. As pessoas pagavam impostos, é claro - a felicidade tinha limites. O imposto mais importante, chamado de imposto de renda pessoal (PIT) tinha que ser pago uma vez por ano e foi avaliado usando a seguinte regra:\n",
    "\n",
    "- se a renda do cidadão não era superior a 85.528 talões, o imposto era igual a 18% da renda, menos 556 taller e 2 centavos (isso era o que eles chamavam de isenção de imposto)\n",
    "- se a receita fosse superior a esse valor, o imposto seria igual a 14.839 talões e 2 centavos, mais 32% do excedente em mais de 85.528 taller.\n",
    "\n",
    "Sua tarefa é escrever uma calculadora de impostos.\n",
    "\n",
    "- Ela deve aceitar um valor de ponto flutuante: a receita.\n",
    "- Em seguida, ele deve imprimir o imposto calculado, arredondado para inteiro. Há uma função chamada round() que fará o arredondamento para você - você a encontrará no código do esqueleto no editor."
   ]
  },
  {
   "cell_type": "code",
   "execution_count": 13,
   "metadata": {},
   "outputs": [
    {
     "name": "stdout",
     "output_type": "stream",
     "text": [
      "A taxa é: 1244.0 talões\n"
     ]
    }
   ],
   "source": [
    "renda = float(input(\"Entre com seus rendimentos anuais \"))\n",
    "\n",
    "if renda < 85528:\n",
    "    tax = renda * 0.18 - 556.02\n",
    "else:\n",
    "    tax = 14839.02 + (renda - 85528) * 0.32\n",
    "\n",
    "if tax < 0:\n",
    "    tax = 0\n",
    "    \n",
    "tax = round(tax, 0)\n",
    "print(\"A taxa é:\", tax, \"talões\") "
   ]
  },
  {
   "attachments": {
    "image.png": {
     "image/png": "[encoded data removed]"
    }
   },
   "cell_type": "markdown",
   "metadata": {},
   "source": [
    "# 3.1.12   LAB   Essenciais da declaração if-elif-else\n",
    "**Cenário**\n",
    "### Como você certamente sabe, devido a algumas razões astronômicas, os anos podem ser bissextos ou comuns. Os primeiros têm 366 dias, enquanto os segundos têm 365 dias. Desde a introdução do calendário gregoriano (em 1582), a regra a seguir é usada para determinar o tipo de ano:\n",
    "\n",
    "- se o número do ano não é divisível por quatro, é um ano comum;\n",
    "- caso contrário, se o número do ano não for divisível por 100, será um ano bissexto;\n",
    "- caso contrário, se o número do ano não for divisível por 400, é um ano comum;\n",
    "- caso contrário, é um ano bissexto .\n",
    "- Observe o código no editor: ele só lê o número de um ano e precisa ser concluído com as instruções de implementação do teste que acabamos de descrever.\n",
    "\n",
    "\n",
    "O código deve gerar uma das duas mensagens possíveis, que são ano bissexto ou ano comum, dependendo do valor inserido.\n",
    "\n",
    "Seria bom verificar se o ano inserido cai na era gregoriana e emitir um aviso caso contrário: não está dentro do período do calendário gregoriano. Dica: use os operadores != E %.\n",
    "\n",
    "![image.png](attachment:image.png)"
   ]
  },
  {
   "cell_type": "code",
   "execution_count": null,
   "metadata": {},
   "outputs": [],
   "source": [
    "year = int(input(\"Digite um ano: \"))\n",
    "\n",
    "if year < 1582:\n",
    "    print(\"Não dentro do período do calendário gregoriano\")\n",
    "else:\n",
    "    if year % 4 != 0:\n",
    "        print(\"Ano comum!\")\n",
    "    elif year % 100 != 0\n",
    "        print(\"Ano bissexto!\")\n",
    "    elif year % 400 != 0\n",
    "        print(\"Ano comum!\")\n",
    "    else:\n",
    "        print(\"Ano bissexto!\")"
   ]
  },
  {
   "cell_type": "markdown",
   "metadata": {},
   "source": [
    "#### Multipla atribuição:"
   ]
  },
  {
   "cell_type": "code",
   "execution_count": null,
   "metadata": {},
   "outputs": [],
   "source": [
    "a, b, c = 1 ,2 ,3\n",
    "# valores de a = 5, b = 6, faça permuta de com as variáveis\n",
    "a = 5\n",
    "b = 6\n",
    "# Efetuando a troca\n",
    "apoio = a\n",
    "a = b\n",
    "b = apoio\n",
    "# efetuando a permuta no Python\n",
    "a, b = b, a"
   ]
  }
 ],
 "metadata": {
  "kernelspec": {
   "display_name": ".venv",
   "language": "python",
   "name": "python3"
  },
  "language_info": {
   "codemirror_mode": {
    "name": "ipython",
    "version": 3
   },
   "file_extension": ".py",
   "mimetype": "text/x-python",
   "name": "python",
   "nbconvert_exporter": "python",
   "pygments_lexer": "ipython3",
   "version": "3.13.2"
  }
 },
 "nbformat": 4,
 "nbformat_minor": 2
}
