{
 "cells": [
  {
   "cell_type": "markdown",
   "metadata": {},
   "source": [
    "# 4.7.1 - Exceções\n",
    "Tratamnto de erros no Python"
   ]
  },
  {
   "cell_type": "code",
   "execution_count": 18,
   "metadata": {},
   "outputs": [
    {
     "name": "stdout",
     "output_type": "stream",
     "text": [
      "Ocorreu um erro de conversão, Somente números! ou\n",
      "Ocorreu um erro de divisão por zero.\n",
      "Fim do programa!\n"
     ]
    }
   ],
   "source": [
    "# Exemplo de erro de execução de código\n",
    "try: # o programa executa\n",
    "    valor = int(input(\"Digite um valor: \"))\n",
    "    print(\"o valor resultante será: \", 1/valor)\n",
    "    lista = [1,2,3]\n",
    "    print(lista[5])\n",
    "\n",
    "except (ValueError, ZeroDivisionError):  # caso der erro ele trata na exceção (erro de valor)\n",
    "    print(\"Ocorreu um erro de conversão, Somente números! ou\")\n",
    "    print(\"Ocorreu um erro de divisão por zero.\")\n",
    "\n",
    "#except ZeroDivisionError: # caso der erro ele trata na exceção (Erro de operação de divisão por 0)\n",
    "#   print(\"Ocorreu um erro de divisão por zero\")\n",
    "\n",
    "except Exception as e: # caso der erro ele trata na exceção (genérico)\n",
    "    print(\"Outro erro ocorreu!\", e)\n",
    "\n",
    "print(\"Fim do programa!\")"
   ]
  }
 ],
 "metadata": {
  "kernelspec": {
   "display_name": ".venv",
   "language": "python",
   "name": "python3"
  },
  "language_info": {
   "codemirror_mode": {
    "name": "ipython",
    "version": 3
   },
   "file_extension": ".py",
   "mimetype": "text/x-python",
   "name": "python",
   "nbconvert_exporter": "python",
   "pygments_lexer": "ipython3",
   "version": "3.13.2"
  }
 },
 "nbformat": 4,
 "nbformat_minor": 2
}
