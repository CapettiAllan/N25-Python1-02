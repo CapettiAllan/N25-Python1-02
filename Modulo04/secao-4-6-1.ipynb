{
 "cells": [
  {
   "cell_type": "markdown",
   "metadata": {},
   "source": [
    "# 4.6.1 - Tuplas e decionários\n",
    "### Tuplas\n",
    "São como listas, mas são imutáveis...somente leitura."
   ]
  },
  {
   "cell_type": "code",
   "execution_count": 3,
   "metadata": {},
   "outputs": [
    {
     "name": "stdout",
     "output_type": "stream",
     "text": [
      "() (1, 2) (1, 2)\n",
      "(1,)\n"
     ]
    }
   ],
   "source": [
    "# Definindo uma tupla vazia\n",
    "tupla = ()\n",
    "# Definindo uma tupla com 2 elementos\n",
    "tupla_v1 = (1, 2)\n",
    "tupla_v2 = 1, 2\n",
    "print(tupla, tupla_v1, tupla_v1)\n",
    "# Definindo uma tupla com 1 elemento\n",
    "tupla_v3 = (1,)\n",
    "print(tupla_v3)"
   ]
  },
  {
   "cell_type": "code",
   "execution_count": 7,
   "metadata": {},
   "outputs": [
    {
     "name": "stdout",
     "output_type": "stream",
     "text": [
      "(1, 2, 3, 4, 5, 6, 7, 8)\n",
      "(2, 3, 4, 5, 6, 7)\n",
      "True\n",
      "False\n"
     ]
    }
   ],
   "source": [
    "# Operações com tuplas\n",
    "tupla = (1,2,3,4,5)\n",
    "#tupla.append(5)              # isso não pode\n",
    "#tupla.insert(1,6)            # isso não pode também\n",
    "#del tupla[2]                 # isso também não pode\n",
    "#tupla[4] = 10                # Isso também não é permitido\n",
    "tupla = tupla + (6,7,8)       # Só pode assim\n",
    "print(tupla)\n",
    "print(tupla[1:-1])            # Fatiamento também é possível\n",
    "print(6 in tupla)             # in é possível\n",
    "print(5 not in tupla)         # not in é possível"
   ]
  },
  {
   "cell_type": "markdown",
   "metadata": {},
   "source": [
    "### Dicionário\n",
    "#### pode lista, tupla, inteiro, float, lista de lista...e assim vai"
   ]
  },
  {
   "cell_type": "code",
   "execution_count": 23,
   "metadata": {},
   "outputs": [
    {
     "name": "stdout",
     "output_type": "stream",
     "text": [
      "Allan capetti\n",
      "{'nome': 'Allan capetti', 'Endereço': 'Ruas das avenidas, 15', 'telefone': '321123321'}\n",
      "3\n",
      "True\n",
      "False\n",
      "dict_keys(['nome', 'Endereço', 'telefone'])\n",
      "dict_values(['Allan capetti', 'Ruas das avenidas, 15', '321123321'])\n",
      "dict_items([('nome', 'Allan capetti'), ('Endereço', 'Ruas das avenidas, 15'), ('telefone', '321123321')])\n",
      "nome, Endereço, telefone, \n",
      "Allan capetti, Ruas das avenidas, 15, 321123321, \n",
      "nome = Allan capetti, Endereço = Ruas das avenidas, 15, telefone = 321123321, "
     ]
    }
   ],
   "source": [
    "dic = { \"nome\": \"Allan capetti\", \"Endereço\": \"Ruas das avenidas, 15\" }\n",
    "print(dic[\"nome\"])\n",
    "dic[\"telefone\"] = \"321123321\"\n",
    "print(dic)\n",
    "print (len(dic))\n",
    "print(\"nome\" in dic)\n",
    "print(\"celular\" in dic)\n",
    "print(dic.keys())\n",
    "print(dic.values())\n",
    "print(dic.items())\n",
    "for elemento in dic.keys(): print(elemento, end=\", \")\n",
    "print()\n",
    "for elemento in dic.values(): print(elemento, end=\", \")\n",
    "print()\n",
    "for chave,valor in dic.items(): print(chave, \"=\", valor, end=\", \")"
   ]
  },
  {
   "cell_type": "code",
   "execution_count": 24,
   "metadata": {},
   "outputs": [
    {
     "name": "stdout",
     "output_type": "stream",
     "text": [
      "{'nome': 'Allan capetti', 'Endereço': 'Ruas das avenidas, 15'}\n"
     ]
    }
   ],
   "source": [
    "del dic[\"telefone\"]\n",
    "print(dic)"
   ]
  }
 ],
 "metadata": {
  "kernelspec": {
   "display_name": ".venv",
   "language": "python",
   "name": "python3"
  },
  "language_info": {
   "codemirror_mode": {
    "name": "ipython",
    "version": 3
   },
   "file_extension": ".py",
   "mimetype": "text/x-python",
   "name": "python",
   "nbconvert_exporter": "python",
   "pygments_lexer": "ipython3",
   "version": "3.13.2"
  }
 },
 "nbformat": 4,
 "nbformat_minor": 2
}
