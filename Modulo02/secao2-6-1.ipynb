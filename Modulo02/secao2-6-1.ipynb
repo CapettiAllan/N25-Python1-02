{
 "cells": [
  {
   "cell_type": "markdown",
   "metadata": {},
   "source": [
    "# Interação com o Usuário\n",
    "### função input() - esse comando sempre vai devolver texto"
   ]
  },
  {
   "cell_type": "code",
   "execution_count": 3,
   "metadata": {},
   "outputs": [
    {
     "name": "stdout",
     "output_type": "stream",
     "text": [
      "Digite sua idade:\n",
      "Você tem 1 anos.\n"
     ]
    }
   ],
   "source": [
    "print(\"Digite sua idade:\")\n",
    "idade = input()\n",
    "print(\"Você tem \" + idade + \" anos.\")"
   ]
  },
  {
   "cell_type": "code",
   "execution_count": 7,
   "metadata": {},
   "outputs": [
    {
     "name": "stdout",
     "output_type": "stream",
     "text": [
      "Você tem 3 anos.\n",
      "<class 'str'>\n"
     ]
    }
   ],
   "source": [
    "idade = input(\"Digite sua idade \") #passando a mensagem como argumento\n",
    "print(\"Você tem \" + idade + \" anos.\")\n",
    "print(type(idade)) # verificando o tipo da variável idade"
   ]
  },
  {
   "cell_type": "code",
   "execution_count": null,
   "metadata": {},
   "outputs": [
    {
     "name": "stdout",
     "output_type": "stream",
     "text": [
      "Você nasceu em 2001.\n",
      "Você nasceu em 2001.\n"
     ]
    }
   ],
   "source": [
    "# Isso não será possível fazer\n",
    "idade = int(input(\"Digite sua idade: \")) # se não converter da o erro de tipo.\n",
    "ano_nascimento = 2025 - idade # erro de tipo, idade é uma string e não pode ser subtraída de um inteiro\n",
    "print(\"Você nasceu em \" + str(ano_nascimento) + \".\") # convertendo o ano para string\n",
    "print(\"Você nasceu em \",ano_nascimento,\".\",sep=\"\") # usando argumentos do print e sep sem espaço"
   ]
  },
  {
   "cell_type": "code",
   "execution_count": 22,
   "metadata": {},
   "outputs": [
    {
     "name": "stdout",
     "output_type": "stream",
     "text": [
      "A temperatura em farenheit é: 37.4°F\n"
     ]
    }
   ],
   "source": [
    "# Desenvolver um programa para solicitar o valor de uma temperatura\n",
    "# em grau celsius e convertê-la em grau Fahrenheit.\n",
    "# A fórmula de conversão é:\n",
    "# F = C * 9/5 + 32\n",
    "\n",
    "celsius = float(input(\"Digite a temperatura em graus celsius:\" ))\n",
    "fahrenheit = celsius * 9/5 + 32\n",
    "print(\"A temperatura em farenheit é: \", fahrenheit, \"°F\", sep=\"\")"
   ]
  },
  {
   "attachments": {
    "image.png": {
     "image/png": "[encoded data removed]"
    }
   },
   "cell_type": "markdown",
   "metadata": {},
   "source": [
    "### Laboratório 2.6.10\n",
    "**Cenário** <br>\n",
    "- Sua tarefa é completar o código para avaliar a seguinte expressão:\n",
    "\n",
    "- Expressão matemática <br>\n",
    "O resultado deve ser atribuído a y. Tenha cuidado - observe os operadores e mantenha suas prioridades em mente. Não hesite em usar quantos parênteses forem necessários.\n",
    "\n",
    "- Você pode usar variáveis adicionais para encurtar a expressão (mas não é necessário). Teste seu código com cuidado.\n",
    "\n",
    "![image.png](attachment:image.png)"
   ]
  },
  {
   "cell_type": "code",
   "execution_count": 25,
   "metadata": {},
   "outputs": [
    {
     "name": "stdout",
     "output_type": "stream",
     "text": [
      "y = 0.6000000000000001\n"
     ]
    }
   ],
   "source": [
    "x = float(input(\"Digite o valor para x: \"))\n",
    "\n",
    "y = 1 / (x + 1 / (x + 1 / (x + 1 / x)))\n",
    "\n",
    "print(\"y =\", y)"
   ]
  },
  {
   "cell_type": "markdown",
   "metadata": {},
   "source": [
    "### Labortório 2.6.11\n",
    "**Cenário** <br>\n",
    "\n",
    "- Sua tarefa é preparar um código simples capaz de avaliar a hora de término de um período, dado como um número de minutos (pode ser arbitrariamente grande). A hora de início é fornecida como um par de horas (0..23) e minutos (0..59). O resultado deve ser impresso no console. <br>\n",
    "- Por exemplo, se um evento começa às 12:17 e dura 59 minutos, termina às 13:16.<br>\n",
    "- Não se preocupe com imperfeições no código - tudo bem se ele aceitar um tempo inválido - o mais importante é que o código produz resultados válidos para dados de entrada válidos.<br>\n",
    "- Teste seu código com cuidado. Dica: usar o operador % pode ser a chave para o sucesso.<br>"
   ]
  },
  {
   "cell_type": "code",
   "execution_count": 30,
   "metadata": {},
   "outputs": [
    {
     "name": "stdout",
     "output_type": "stream",
     "text": [
      "12:0\n"
     ]
    }
   ],
   "source": [
    "hora = int(input(\"Hora de início (horas): \"))\n",
    "mins = int(input(\"Hora de início (minutos): \"))\n",
    "dura = int(input(\"Duração do evento (minutos): \"))\n",
    "\n",
    "tempo_total = hora * 60 + mins + dura # converte tudo pra minutos\n",
    "hora_final = tempo_total // 60 % 24 # pega a parte inteira da divisão\n",
    "minuto_final = tempo_total % 60\n",
    "print(hora_final, minuto_final, sep=\":\")"
   ]
  }
 ],
 "metadata": {
  "kernelspec": {
   "display_name": ".venv",
   "language": "python",
   "name": "python3"
  },
  "language_info": {
   "codemirror_mode": {
    "name": "ipython",
    "version": 3
   },
   "file_extension": ".py",
   "mimetype": "text/x-python",
   "name": "python",
   "nbconvert_exporter": "python",
   "pygments_lexer": "ipython3",
   "version": "3.13.2"
  }
 },
 "nbformat": 4,
 "nbformat_minor": 2
}
