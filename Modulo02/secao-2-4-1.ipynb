{
 "cells": [
  {
   "cell_type": "markdown",
   "metadata": {},
   "source": [
    "# Variáveis"
   ]
  },
  {
   "cell_type": "code",
   "execution_count": 16,
   "metadata": {},
   "outputs": [
    {
     "name": "stdout",
     "output_type": "stream",
     "text": [
      "45\n",
      "46\n"
     ]
    }
   ],
   "source": [
    "idade = 45\n",
    "print(idade)\n",
    "idade = idade + 1\n",
    "print(idade)\n"
   ]
  },
  {
   "cell_type": "markdown",
   "metadata": {},
   "source": [
    "#### Regras de utilização de variáveis - nomes de variáveis\n",
    "- Deve-se iniciar com letra ou _(underline)\n",
    "- Não pode conter caractere especial\n",
    "- Pode-se usar letras, números ou _(underline), desde que respeite a primera regra\n",
    "- O Python é uma linguagem **case sensitive**, ou seja, faz diferença entre maiúsculas e minúsculas\n",
    "- não pode ser uma palavra reservada do Python"
   ]
  },
  {
   "cell_type": "markdown",
   "metadata": {},
   "source": [
    "### Laboratório 2.4.7\n",
    "**Cenário** <br>\n",
    "Aqui está uma breve história:\n",
    "\n",
    "Era uma vez em Appleland, John tinha três maçãs, Maria cinco maçãs e Adam tinha seis maças. Todos ficaram muito felizes e viveram por muito tempo. Fim da história.\n",
    "\n",
    "Sua tarefa:\n",
    "\n",
    "- crie as variáveis: john, mary e adam;\n",
    "- atribuir valores às variáveis. Os valores devem ser iguais aos números de fruto possuído por John, Mary e Adam, respectivamente;\n",
    "- tendo armazenado os números nas variáveis, imprimindo as variáveis em uma linha e separando cada uma delas com uma vírgula;\n",
    "- Agora, crie uma nova variável chamada total_apples igual à adição das três variáveis anteriores.\n",
    "- imprima o valor armazenado em total_apples no console;\n",
    "- **experimente com seu código:** crie novas variáveis, atribua valores diferentes a elas e execute várias operações aritméticas nelas (por exemplo, +, -, *, /, //, etc.). Tente imprimir uma sequência de caracteres e um número inteiro juntos em uma linha, por exemplo, \"Número total de maças:\" e total_apples.\n"
   ]
  },
  {
   "cell_type": "code",
   "execution_count": 17,
   "metadata": {},
   "outputs": [
    {
     "name": "stdout",
     "output_type": "stream",
     "text": [
      "3, 5, 6\n",
      "total de maçãs: 14\n"
     ]
    }
   ],
   "source": [
    "john = 3\n",
    "mary = 5\n",
    "adam = 6\n",
    "\n",
    "print(john, mary, adam, sep=\", \")\n",
    "\n",
    "total_apples = john + mary + adam\n",
    "\n",
    "print(\"total de maçãs:\", total_apples)"
   ]
  },
  {
   "cell_type": "markdown",
   "metadata": {},
   "source": [
    "### Operador de atalho\n",
    "\n",
    "operador = operador operação valor => operador operação = valor\n",
    "resumindo\n",
    "idade = idade + 5 => idade += 5"
   ]
  },
  {
   "cell_type": "code",
   "execution_count": 18,
   "metadata": {},
   "outputs": [
    {
     "name": "stdout",
     "output_type": "stream",
     "text": [
      "7\n",
      "49\n"
     ]
    }
   ],
   "source": [
    "variavel = 2\n",
    "# variavel = variavel + 5\n",
    "variavel += 5\n",
    "print(variavel)\n",
    "# variavel = variavel * 5 +2\n",
    "variavel *= 5 + 2 # dessa forma ele executa a operção de atalho por último e muda o resultado\n",
    "print(variavel)"
   ]
  },
  {
   "cell_type": "markdown",
   "metadata": {},
   "source": [
    "### Laboratório 2.4.9\n",
    "#### **Cenário** <br>\n",
    "Milhas e quilômetros são unidades de comprimento ou distância.\n",
    "\n",
    "* Lembrando que 1 milha é igual a aproximadamente 1.61 quilômetros, complete o programa no editor para que converta:\n",
    "\n",
    "* milhas em quilômetros;\n",
    "* quilômetros em milhas.\n",
    "* Não altere nada no código atual. Escreva seu código nos locais indicados por ###. Teste seu programa com os dados que fornecemos no código-fonte.\n",
    "\n",
    "- Preste atenção especial ao que está acontecendo na função de print(). Analise como fornecemos multiplos argumentos para a função e como produzimos os dados esperados.\n",
    "\n",
    "Observe que alguns dos argumentos dentro da função print() são strings (por exemplo, \"milhas é\", enquanto outros são variáveis (por exemplo, miles)."
   ]
  },
  {
   "cell_type": "code",
   "execution_count": 20,
   "metadata": {},
   "outputs": [
    {
     "name": "stdout",
     "output_type": "stream",
     "text": [
      "7.38 milhas é 11.88 quilômetros\n",
      "12.25 quilômetros é 7.61 milhas\n"
     ]
    }
   ],
   "source": [
    "kilometers = 12.25\n",
    "miles = 7.38\n",
    "one_mile_in_km = 1.61\n",
    "\n",
    "miles_to_kilometers = miles * one_mile_in_km\n",
    "kilometers_to_miles = kilometers / one_mile_in_km\n",
    "\n",
    "print(miles, \"milhas é\", round(miles_to_kilometers, 2), \"quilômetros\")\n",
    "print(kilometers, \"quilômetros é\", round(kilometers_to_miles, 2), \"milhas\")"
   ]
  },
  {
   "cell_type": "markdown",
   "metadata": {},
   "source": [
    "### Laboratório 2.4.10\n",
    "#### **Cenário** <br>\n",
    "Dê uma olhada no código no editor: ele lê um valor float, coloca-o em uma variável chamada x e imprime o valor de uma variável chamada y. Sua tarefa é completar o código para avaliar a seguinte expressão:\n",
    "\n",
    "3x³ - 2x² + 3x - 1\n",
    "\n",
    "O resultado deve ser atribuído a y.\n",
    "\n",
    "Lembre-se de que a notação algébricas clássica gosta de omitir o operador de multiplicação - você precisa usá-la explicitamente. Observe como mudamos o tipo de dados para garantir que x seja do tipo float.\n",
    "\n",
    "Mantenha seu código limpo e legível e teste-o usando os dados que fornecemos, atribuindo-o sempre à variável x (codificando-o). Não desanime por qualquer falha inicial. Seja persistente e inquisitivo.\n",
    "\n",
    "Exemplo de entrada | Exemplo de saída\n",
    "| - | - |\n",
    "x = 0 | y = -1.0\n",
    "x = 1 | y = 3.0\n",
    "x = -1 | y = -9.0"
   ]
  },
  {
   "cell_type": "code",
   "execution_count": 23,
   "metadata": {},
   "outputs": [
    {
     "name": "stdout",
     "output_type": "stream",
     "text": [
      "y = -1.0\n"
     ]
    }
   ],
   "source": [
    "x = 0 # Codifique seus dados de teste aqui.\n",
    "x = float(x)\n",
    "# Escreva seu código aqui.\n",
    "y = 3*x**3 - 2*x**2 + 3*x - 1\n",
    "print(\"y =\", y)"
   ]
  }
 ],
 "metadata": {
  "kernelspec": {
   "display_name": ".venv",
   "language": "python",
   "name": "python3"
  },
  "language_info": {
   "codemirror_mode": {
    "name": "ipython",
    "version": 3
   },
   "file_extension": ".py",
   "mimetype": "text/x-python",
   "name": "python",
   "nbconvert_exporter": "python",
   "pygments_lexer": "ipython3",
   "version": "3.13.2"
  }
 },
 "nbformat": 4,
 "nbformat_minor": 2
}
