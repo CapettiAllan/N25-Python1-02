{
 "cells": [
  {
   "cell_type": "markdown",
   "metadata": {},
   "source": [
    "# Operadors em Python\n",
    "### Python como calculadora"
   ]
  },
  {
   "cell_type": "code",
   "execution_count": 4,
   "metadata": {},
   "outputs": [
    {
     "name": "stdout",
     "output_type": "stream",
     "text": [
      "4\n",
      "-60\n",
      "24\n"
     ]
    }
   ],
   "source": [
    "print(2+2)\n",
    "print(2-62)\n",
    "print(2*12)"
   ]
  },
  {
   "cell_type": "markdown",
   "metadata": {},
   "source": [
    "### Operadores básicos\n",
    "#### Operador de exponenciação ( ** )"
   ]
  },
  {
   "cell_type": "code",
   "execution_count": 7,
   "metadata": {},
   "outputs": [
    {
     "name": "stdout",
     "output_type": "stream",
     "text": [
      "4\n",
      "4.0\n",
      "4.0\n",
      "4.0\n"
     ]
    }
   ],
   "source": [
    "print( 2 ** 2)\n",
    "print( 2.0 ** 2)\n",
    "print( 2 ** 2.0)\n",
    "print( 2.0 ** 2.0)"
   ]
  },
  {
   "cell_type": "markdown",
   "metadata": {},
   "source": [
    "#### Operador de Multiplicação ( * )"
   ]
  },
  {
   "cell_type": "code",
   "execution_count": 8,
   "metadata": {},
   "outputs": [
    {
     "name": "stdout",
     "output_type": "stream",
     "text": [
      "4\n",
      "4.0\n",
      "4.0\n",
      "4.0\n"
     ]
    }
   ],
   "source": [
    "print( 2 * 2)\n",
    "print( 2.0 * 2)\n",
    "print( 2 * 2.0)\n",
    "print( 2.0 * 2.0)"
   ]
  },
  {
   "cell_type": "markdown",
   "metadata": {},
   "source": [
    "#### Operador de divisão ( / ) "
   ]
  },
  {
   "cell_type": "code",
   "execution_count": 9,
   "metadata": {},
   "outputs": [
    {
     "name": "stdout",
     "output_type": "stream",
     "text": [
      "1.0\n",
      "1.0\n",
      "1.0\n",
      "1.0\n"
     ]
    }
   ],
   "source": [
    "print( 2 / 2)\n",
    "print( 2.0 / 2)\n",
    "print( 2 / 2.0)\n",
    "print( 2.0 / 2.0)"
   ]
  },
  {
   "cell_type": "markdown",
   "metadata": {},
   "source": [
    "#### Divisão com arredondamento / Divisão inteira - por arredondamento ( // )\n",
    "faz arredondamento para baixo!!!"
   ]
  },
  {
   "cell_type": "code",
   "execution_count": 14,
   "metadata": {},
   "outputs": [
    {
     "name": "stdout",
     "output_type": "stream",
     "text": [
      "1\n",
      "1.0\n",
      "1.0\n",
      "1.0\n",
      "-2\n"
     ]
    }
   ],
   "source": [
    "print( 3 // 2)\n",
    "print( 2.0 // 2)\n",
    "print( 2 // 2.0)\n",
    "print( 2.0 // 2.0)\n",
    "print( -3 // 2)"
   ]
  },
  {
   "cell_type": "markdown",
   "metadata": {},
   "source": [
    "#### Operador de resto | módulo - resto da divisão ( % )"
   ]
  },
  {
   "cell_type": "code",
   "execution_count": 19,
   "metadata": {},
   "outputs": [
    {
     "name": "stdout",
     "output_type": "stream",
     "text": [
      "1\n",
      "1.0\n",
      "1.0\n",
      "1.0\n",
      "3.0\n"
     ]
    }
   ],
   "source": [
    "print( 3 % 2)\n",
    "print( 3 % 2.0)\n",
    "print( 3.0 % 2)\n",
    "print( 3.0 % 2.0)\n",
    "print( 12 % 4.5)"
   ]
  },
  {
   "cell_type": "markdown",
   "metadata": {},
   "source": [
    "#### **Cuidados com resto e divisões**\n",
    "Qualquer um deles não pode ter como divisor o zero (0)\n",
    "O resoltado é zero!\n",
    "\n",
    "\n",
    "\n",
    "\n",
    "\n",
    "### Operador de soma e subtração ( + e - )"
   ]
  },
  {
   "cell_type": "code",
   "execution_count": 29,
   "metadata": {},
   "outputs": [
    {
     "name": "stdout",
     "output_type": "stream",
     "text": [
      "4\n",
      "0\n",
      "4.0\n",
      "4.0\n",
      "0.0\n"
     ]
    }
   ],
   "source": [
    "print( 2 + 2)\n",
    "print( 2 - 2)\n",
    "print( 2 + 2.0)\n",
    "print( 2.0 + 2)\n",
    "print( -2.0 + 2.0) # usando operando unário"
   ]
  },
  {
   "cell_type": "markdown",
   "metadata": {},
   "source": [
    "#### Operadores e prioridades\n"
   ]
  },
  {
   "cell_type": "code",
   "execution_count": 30,
   "metadata": {},
   "outputs": [
    {
     "name": "stdout",
     "output_type": "stream",
     "text": [
      "2.0\n",
      "256\n"
     ]
    }
   ],
   "source": [
    "print( 2 + 3 * 4 ** 2 / 2 // 2 % 3) # operação da esquerda para direita, comum\n",
    "print(2 ** 2 ** 3) # operação da direita para esquerda, quando envolve exponenciação de expoente de expoente"
   ]
  },
  {
   "cell_type": "markdown",
   "metadata": {},
   "source": [
    "#### Lista de prioridades de operadores\n",
    "\n",
    "| Prioridade | operador | Descrição |\n",
    "| :-: | :-: | :-: |\n",
    "| 1 | ** | Exponenciação |\n",
    "| 2 | -, + | Operador Unário |\n",
    "| 3 | *, /, //, % | Multiplicação, Divisão e Resto |\n",
    "| 4 | -, + | Soma e Subtração |\n",
    "\n"
   ]
  },
  {
   "cell_type": "code",
   "execution_count": 31,
   "metadata": {},
   "outputs": [
    {
     "name": "stdout",
     "output_type": "stream",
     "text": [
      "-9\n"
     ]
    }
   ],
   "source": [
    "print(-3 ** 2)"
   ]
  }
 ],
 "metadata": {
  "kernelspec": {
   "display_name": ".venv",
   "language": "python",
   "name": "python3"
  },
  "language_info": {
   "codemirror_mode": {
    "name": "ipython",
    "version": 3
   },
   "file_extension": ".py",
   "mimetype": "text/x-python",
   "name": "python",
   "nbconvert_exporter": "python",
   "pygments_lexer": "ipython3",
   "version": "3.13.2"
  }
 },
 "nbformat": 4,
 "nbformat_minor": 2
}
