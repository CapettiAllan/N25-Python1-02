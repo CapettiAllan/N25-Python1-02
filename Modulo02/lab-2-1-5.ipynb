{
 "cells": [
  {
   "cell_type": "markdown",
   "metadata": {},
   "source": [
    "# Laboratório 2-1-5"
   ]
  },
  {
   "cell_type": "code",
   "execution_count": 27,
   "metadata": {},
   "outputs": [
    {
     "name": "stdout",
     "output_type": "stream",
     "text": [
      "olá python!\n"
     ]
    }
   ],
   "source": [
    "print(\"olá python!\")"
   ]
  },
  {
   "cell_type": "code",
   "execution_count": 28,
   "metadata": {},
   "outputs": [
    {
     "name": "stdout",
     "output_type": "stream",
     "text": [
      "Allan\n",
      "Capetti\n"
     ]
    }
   ],
   "source": [
    "print ('Allan');\n",
    "print ('Capetti')"
   ]
  },
  {
   "cell_type": "markdown",
   "metadata": {},
   "source": [
    "### continuando sobre print()"
   ]
  },
  {
   "cell_type": "code",
   "execution_count": 29,
   "metadata": {},
   "outputs": [
    {
     "name": "stdout",
     "output_type": "stream",
     "text": [
      "A pequenina aranha escalou a tromba d'água.\n",
      "\n",
      "Caiu a chuva e lavou a aranha.\n"
     ]
    }
   ],
   "source": [
    "print(\"A pequenina aranha escalou a tromba d'água.\")\n",
    "print()\n",
    "print(\"Caiu a chuva e lavou a aranha.\")"
   ]
  },
  {
   "cell_type": "markdown",
   "metadata": {},
   "source": [
    "### escape , escape\\new line e escape\\tabulação - \"\\\\\" , \"\\n\" e \"\\t\""
   ]
  },
  {
   "cell_type": "code",
   "execution_count": 32,
   "metadata": {},
   "outputs": [
    {
     "name": "stdout",
     "output_type": "stream",
     "text": [
      "\"\n",
      "\\\n",
      "1234\t5678\t90\n"
     ]
    }
   ],
   "source": [
    "print(\"\\\"\")\n",
    "print(\"\\\\\")\n",
    "print(\"1234\\t5678\\t90\")"
   ]
  },
  {
   "cell_type": "markdown",
   "metadata": {},
   "source": [
    "### print() com vários argumentos"
   ]
  },
  {
   "cell_type": "code",
   "execution_count": 33,
   "metadata": {},
   "outputs": [
    {
     "name": "stdout",
     "output_type": "stream",
     "text": [
      "A aranha pequenina subiu a tromba d'água.\n"
     ]
    }
   ],
   "source": [
    "print(\"A aranha pequenina\",\"subiu\",\"a tromba d'água.\")"
   ]
  },
  {
   "cell_type": "markdown",
   "metadata": {},
   "source": [
    "### Argumento palavra-chave ou nomeado"
   ]
  },
  {
   "cell_type": "markdown",
   "metadata": {},
   "source": [
    "#### O argumento end=\" \" é usado para determinar como o print vai terminar\n",
    "\n",
    "##### OBS: qualquer argumento de palavra-chave deve ser colocado após o último argumento posicional (isso é muito importante) "
   ]
  },
  {
   "cell_type": "code",
   "execution_count": 38,
   "metadata": {},
   "outputs": [
    {
     "name": "stdout",
     "output_type": "stream",
     "text": [
      "Meu nome é Python. Monty Python.\n"
     ]
    }
   ],
   "source": [
    "print(\"Meu nome é\", \"Python.\", end=\" \")\n",
    "print(\"Monty Python.\")"
   ]
  },
  {
   "cell_type": "markdown",
   "metadata": {},
   "source": [
    "#### O argumento sep=\" \" é usado para determinar qual a separação o print vai usar"
   ]
  },
  {
   "cell_type": "code",
   "execution_count": 39,
   "metadata": {},
   "outputs": [
    {
     "name": "stdout",
     "output_type": "stream",
     "text": [
      "Meu-nome-é-Monty-Python.\n"
     ]
    }
   ],
   "source": [
    "print(\"Meu\", \"nome\", \"é\", \"Monty\", \"Python.\", sep=\"-\")"
   ]
  },
  {
   "cell_type": "markdown",
   "metadata": {},
   "source": [
    "##### Ambos os argumentos de palavra-chave podem ser misturados em uma chamada, como aqui na janela do editor."
   ]
  },
  {
   "cell_type": "code",
   "execution_count": 40,
   "metadata": {},
   "outputs": [
    {
     "name": "stdout",
     "output_type": "stream",
     "text": [
      "Meu_nome_é*Monty*Python.*\n"
     ]
    }
   ],
   "source": [
    "print(\"Meu\", \"nome\", \"é\", sep=\"_\", end=\"*\")\n",
    "print(\"Monty\", \"Python.\", sep=\"*\", end=\"*\\n\")"
   ]
  },
  {
   "cell_type": "markdown",
   "metadata": {},
   "source": [
    "### Laboratório 2-1-12\n",
    "#### Saída esperada:\n",
    "```python\n",
    "Programação***Essenciais***em...Python\n",
    "```"
   ]
  },
  {
   "cell_type": "code",
   "execution_count": 42,
   "metadata": {},
   "outputs": [
    {
     "name": "stdout",
     "output_type": "stream",
     "text": [
      "Programação***Essenciais***em...Python\n"
     ]
    }
   ],
   "source": [
    "print(\"Programação\",\"Essenciais\",\"em\", sep=\"***\", end=\"...\")\n",
    "print(\"Python\")"
   ]
  },
  {
   "cell_type": "markdown",
   "metadata": {},
   "source": [
    "##### (colocar argumentos nomeados antes dos argumentos posicionais) Não fazer isso!!! "
   ]
  },
  {
   "cell_type": "code",
   "execution_count": 48,
   "metadata": {},
   "outputs": [
    {
     "name": "stdout",
     "output_type": "stream",
     "text": [
      "argumento1-argumento2\n"
     ]
    }
   ],
   "source": [
    "# Isso eu não posso fazer\n",
    "# print(sep\"-\",\"argumento1\",\"argumento2\")\n",
    "print(\"argumento1\",\"argumento2\",sep=\"-\")\n"
   ]
  },
  {
   "cell_type": "markdown",
   "metadata": {},
   "source": [
    "### Laboratório 2.1.13"
   ]
  },
  {
   "cell_type": "code",
   "execution_count": 71,
   "metadata": {},
   "outputs": [
    {
     "name": "stdout",
     "output_type": "stream",
     "text": [
      "     *          *          *          *          *          *          *          *          *          *     \n",
      "    * *        * *        * *        * *        * *        * *        * *        * *        * *        * *    \n",
      "   *   *      *   *      *   *      *   *      *   *      *   *      *   *      *   *      *   *      *   *   \n",
      "  *     *    *     *    *     *    *     *    *     *    *     *    *     *    *     *    *     *    *     *  \n",
      " ***   ***  ***   ***  ***   ***  ***   ***  ***   ***  ***   ***  ***   ***  ***   ***  ***   ***  ***   *** \n",
      "   *   *      *   *      *   *      *   *      *   *      *   *      *   *      *   *      *   *      *   *   \n",
      "   *   *      *   *      *   *      *   *      *   *      *   *      *   *      *   *      *   *      *   *   \n",
      "   *****      *****      *****      *****      *****      *****      *****      *****      *****      *****   \n"
     ]
    }
   ],
   "source": [
    "print(\"     *     \"*10)\n",
    "print(\"    * *    \"*10)\n",
    "print(\"   *   *   \"*10)\n",
    "print(\"  *     *  \"*10)\n",
    "print(\" ***   *** \"*10)\n",
    "print(\"   *   *   \"*10)\n",
    "print(\"   *   *   \"*10)\n",
    "print(\"   *****   \"*10)"
   ]
  }
 ],
 "metadata": {
  "kernelspec": {
   "display_name": ".venv",
   "language": "python",
   "name": "python3"
  },
  "language_info": {
   "codemirror_mode": {
    "name": "ipython",
    "version": 3
   },
   "file_extension": ".py",
   "mimetype": "text/x-python",
   "name": "python",
   "nbconvert_exporter": "python",
   "pygments_lexer": "ipython3",
   "version": "3.13.2"
  }
 },
 "nbformat": 4,
 "nbformat_minor": 2
}
